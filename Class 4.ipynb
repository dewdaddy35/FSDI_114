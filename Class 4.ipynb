{
 "cells": [
  {
   "cell_type": "code",
   "execution_count": 9,
   "id": "42a3394d-60ed-4574-a600-49b6b2ed01dd",
   "metadata": {},
   "outputs": [],
   "source": [
    "#Simplified implementation of Queue ( relying on built-in data structures)\n",
    "\n",
    "class Queue:\n",
    "    \n",
    "    def ___init___(self):\n",
    "        self.items = []\n",
    "\n",
    "    def enqueue(self, value):#Push\n",
    "        self.items.insert(0, value)\n",
    "\n",
    "    def dequeue(self):#Pop\n",
    "        return self.items.pop()\n",
    "\n",
    "    # nice to have methods\n",
    "\n",
    "    def is_empty(self):\n",
    "        return self.items == []\n",
    "   \n",
    "    def size(self):\n",
    "        return len(self.items)\n",
    "\n",
    "    def peek (self):\n",
    "        return self.items[len(self.items)-1]\n",
    "        \n",
    "        \n",
    "        \n",
    "    "
   ]
  },
  {
   "cell_type": "code",
   "execution_count": 11,
   "id": "ba17ce0c-433d-472b-91ed-8e68472cf551",
   "metadata": {},
   "outputs": [
    {
     "ename": "SyntaxError",
     "evalue": "expected ':' (2628002091.py, line 10)",
     "output_type": "error",
     "traceback": [
      "\u001b[0;36m  Cell \u001b[0;32mIn[11], line 10\u001b[0;36m\u001b[0m\n\u001b[0;31m    def __init__(self,bob, jane, john)\u001b[0m\n\u001b[0m                                      ^\u001b[0m\n\u001b[0;31mSyntaxError\u001b[0m\u001b[0;31m:\u001b[0m expected ':'\n"
     ]
    }
   ],
   "source": [
    "#have queue(line)\n",
    "#is anyone in line yes or no?\n",
    "#if no put in first space in line,#Pop\n",
    "#if yes peek to see how many people in line,#peek\n",
    "#then get the size of people in line,#size,\n",
    "#then insert to last avaiable slot\n",
    "\n",
    "\n",
    "class QueueII:\n",
    "    def __init__(self,bob, jane, john)\n",
    "    "
   ]
  },
  {
   "cell_type": "code",
   "execution_count": 12,
   "id": "506035c2-d773-490d-a53b-4fa34de21cea",
   "metadata": {},
   "outputs": [
    {
     "ename": "AttributeError",
     "evalue": "'Queue' object has no attribute 'items'",
     "output_type": "error",
     "traceback": [
      "\u001b[0;31m---------------------------------------------------------------------------\u001b[0m",
      "\u001b[0;31mAttributeError\u001b[0m                            Traceback (most recent call last)",
      "Cell \u001b[0;32mIn[12], line 3\u001b[0m\n\u001b[1;32m      1\u001b[0m queue \u001b[38;5;241m=\u001b[39m Queue()\n\u001b[0;32m----> 3\u001b[0m \u001b[43mqueue\u001b[49m\u001b[38;5;241;43m.\u001b[39;49m\u001b[43menqueue\u001b[49m\u001b[43m(\u001b[49m\u001b[38;5;124;43m\"\u001b[39;49m\u001b[38;5;124;43mA\u001b[39;49m\u001b[38;5;124;43m\"\u001b[39;49m\u001b[43m)\u001b[49m\n\u001b[1;32m      4\u001b[0m queue\u001b[38;5;241m.\u001b[39menqueue(\u001b[38;5;124m\"\u001b[39m\u001b[38;5;124mB\u001b[39m\u001b[38;5;124m\"\u001b[39m)\n\u001b[1;32m      5\u001b[0m queue\u001b[38;5;241m.\u001b[39menqueue(\u001b[38;5;124m\"\u001b[39m\u001b[38;5;124mC\u001b[39m\u001b[38;5;124m\"\u001b[39m)\n",
      "Cell \u001b[0;32mIn[9], line 9\u001b[0m, in \u001b[0;36mQueue.enqueue\u001b[0;34m(self, value)\u001b[0m\n\u001b[1;32m      8\u001b[0m \u001b[38;5;28;01mdef\u001b[39;00m \u001b[38;5;21menqueue\u001b[39m(\u001b[38;5;28mself\u001b[39m, value):\u001b[38;5;66;03m#Push\u001b[39;00m\n\u001b[0;32m----> 9\u001b[0m     \u001b[38;5;28;43mself\u001b[39;49m\u001b[38;5;241;43m.\u001b[39;49m\u001b[43mitems\u001b[49m\u001b[38;5;241m.\u001b[39minsert(\u001b[38;5;241m0\u001b[39m, value)\n",
      "\u001b[0;31mAttributeError\u001b[0m: 'Queue' object has no attribute 'items'"
     ]
    }
   ],
   "source": [
    "queue = Queue()\n",
    "\n",
    "queue.enqueue(\"A\")\n",
    "queue.enqueue(\"B\")\n",
    "queue.enqueue(\"C\")\n",
    "\n",
    "# C-> B -> A\n",
    "# C ist at the back of the queue\n",
    "# a is at thr front of the queue\n",
    "\n",
    "while not queue.is_empty():\n",
    "    print(queue.dequeue())\n"
   ]
  },
  {
   "cell_type": "code",
   "execution_count": null,
   "id": "326d76ef-bf88-4955-a0e6-927e647090bc",
   "metadata": {},
   "outputs": [],
   "source": []
  },
  {
   "cell_type": "code",
   "execution_count": 32,
   "id": "bb67ee92-735a-498d-ade1-1ffb658d8402",
   "metadata": {},
   "outputs": [],
   "source": [
    "# More complex implentations of Queue (no built-ins)\n",
    "\n",
    "class QueueII:\n",
    "    def __init__(self):\n",
    "        self.rear = None\n",
    "        self.front = None\n",
    "\n",
    "    class __Node:\n",
    "        def __init__(self, data):\n",
    "            self.data = data\n",
    "            self.next = None\n",
    "\n",
    "    def enqueue(self, value):\n",
    "        new_node = self.__Node(value)\n",
    "        if not self.rear:\n",
    "            self.rear = new_node\n",
    "            self.front = new_node\n",
    "\n",
    "        else:\n",
    "            # step 1: back up the current \"rear\" reference\n",
    "            bckup = self.rear\n",
    "            # step 2: update the \"rear' reference to point to our new node\n",
    "            self.rear = new_node\n",
    "            # step 3: update the \"bckup\" refence so it's \"next\" reference points to our new node\n",
    "            bckup.next = new_node\n",
    "\n",
    "    def dequeue(self):\n",
    "        if self.front:\n",
    "            bckup = self.front.data\n",
    "            self.front = self.front.next\n",
    "            return bckup\n",
    "        raise indexError(\"Queue is empty\")\n",
    "\n",
    "    def is_empty(self):\n",
    "        return self.front == None\n",
    "\n",
    "    def __str__(self):\n",
    "        out = \"FRONT: \"\n",
    "        current = self.front\n",
    "        if current:\n",
    "            out += \"%s\" % current.data\n",
    "            while current.next:\n",
    "                current = current.next\n",
    "                out += \"-> %s\" % current.data\n",
    "            \n",
    "        out += \" :REAR\"\n",
    "        return out\n",
    "            "
   ]
  },
  {
   "cell_type": "code",
   "execution_count": 33,
   "id": "15e5dce8-c569-4cf9-9f2e-d5626a8e47bf",
   "metadata": {},
   "outputs": [
    {
     "name": "stdout",
     "output_type": "stream",
     "text": [
      "New queue created (and empty):\n",
      "FRONT:  :REAR\n",
      "Queue as we add things to it:\n",
      "FRONT: A :REAR\n",
      "FRONT: A-> B :REAR\n",
      "FRONT: A-> B-> C :REAR\n",
      "FRONT: A-> B-> C-> D :REAR\n",
      "FRONT: A-> B-> C-> D-> E :REAR\n",
      "FRONT: A-> B-> C-> D-> E-> F :REAR\n",
      "FRONT: A-> B-> C-> D-> E-> F-> G :REAR\n",
      "FRONT: A-> B-> C-> D-> E-> F-> G-> H :REAR\n",
      "FRONT: A-> B-> C-> D-> E-> F-> G-> H-> I :REAR\n",
      "FRONT: A-> B-> C-> D-> E-> F-> G-> H-> I-> J :REAR\n",
      "FRONT: A-> B-> C-> D-> E-> F-> G-> H-> I-> J-> K :REAR\n",
      "Queue as we dequeue elements untilit is empty:\n",
      "Dequeued element: A\n",
      "Queue: FRONT: B-> C-> D-> E-> F-> G-> H-> I-> J-> K :REAR\n",
      "Dequeued element: B\n",
      "Queue: FRONT: C-> D-> E-> F-> G-> H-> I-> J-> K :REAR\n",
      "Dequeued element: C\n",
      "Queue: FRONT: D-> E-> F-> G-> H-> I-> J-> K :REAR\n",
      "Dequeued element: D\n",
      "Queue: FRONT: E-> F-> G-> H-> I-> J-> K :REAR\n",
      "Dequeued element: E\n",
      "Queue: FRONT: F-> G-> H-> I-> J-> K :REAR\n",
      "Dequeued element: F\n",
      "Queue: FRONT: G-> H-> I-> J-> K :REAR\n",
      "Dequeued element: G\n",
      "Queue: FRONT: H-> I-> J-> K :REAR\n",
      "Dequeued element: H\n",
      "Queue: FRONT: I-> J-> K :REAR\n",
      "Dequeued element: I\n",
      "Queue: FRONT: J-> K :REAR\n",
      "Dequeued element: J\n",
      "Queue: FRONT: K :REAR\n",
      "Dequeued element: K\n",
      "Queue: FRONT:  :REAR\n"
     ]
    }
   ],
   "source": [
    "letters = \"ABCDEFGHIJK\"\n",
    "\n",
    "queue = QueueII()\n",
    "print(\"New queue created (and empty):\")\n",
    "print(queue)\n",
    "\n",
    "print(\"Queue as we add things to it:\")\n",
    "for letter in letters:\n",
    "    queue.enqueue(letter)\n",
    "    print(queue)\n",
    "print(\"Queue as we dequeue elements untilit is empty:\")\n",
    "while not queue.is_empty():\n",
    "    print(\"Dequeued element: %s\" % queue.dequeue())\n",
    "    print (\"Queue: %s\" % queue)\n"
   ]
  },
  {
   "cell_type": "code",
   "execution_count": null,
   "id": "f0ba7adc-64ae-4fac-a183-5bed7e9ff6cc",
   "metadata": {},
   "outputs": [],
   "source": []
  },
  {
   "cell_type": "code",
   "execution_count": null,
   "id": "e01e971d-f424-40af-933e-46e264aa3693",
   "metadata": {},
   "outputs": [],
   "source": []
  }
 ],
 "metadata": {
  "kernelspec": {
   "display_name": "Python 3 (ipykernel)",
   "language": "python",
   "name": "python3"
  },
  "language_info": {
   "codemirror_mode": {
    "name": "ipython",
    "version": 3
   },
   "file_extension": ".py",
   "mimetype": "text/x-python",
   "name": "python",
   "nbconvert_exporter": "python",
   "pygments_lexer": "ipython3",
   "version": "3.10.12"
  }
 },
 "nbformat": 4,
 "nbformat_minor": 5
}
