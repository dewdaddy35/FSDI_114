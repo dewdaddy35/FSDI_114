{
 "cells": [
  {
   "cell_type": "code",
   "execution_count": 7,
   "id": "cd0696d6-389a-4bb9-8d0e-df8a944322a7",
   "metadata": {},
   "outputs": [
    {
     "name": "stdout",
     "output_type": "stream",
     "text": [
      "139949361480080\n",
      "139949361480048\n"
     ]
    }
   ],
   "source": [
    "#Pass by value\n",
    "# in Python \"primary\" data types (int, float, Bool) pass by value\"\n",
    "\n",
    "x = 5\n",
    "y = x\n",
    "x += 1\n",
    "print(id(x))\n",
    "print(id(y))\n"
   ]
  },
  {
   "cell_type": "code",
   "execution_count": 10,
   "id": "49333eb0-4245-4336-ae36-e97d950b374a",
   "metadata": {},
   "outputs": [
    {
     "name": "stdout",
     "output_type": "stream",
     "text": [
      "139949314701696\n",
      "139949314701696\n"
     ]
    }
   ],
   "source": [
    "# Pass by reference\n",
    "# In Python , data types that are not primary all pass by reference\n",
    "\n",
    "x = [1, 2, 3]\n",
    "\n",
    "y = x\n",
    "\n",
    "x.append(4)\n",
    "\n",
    "print(id(y))\n",
    "print(id(x))\n"
   ]
  },
  {
   "cell_type": "code",
   "execution_count": 5,
   "id": "fde3938a-ea57-4ca4-9f9d-91389aabed9d",
   "metadata": {},
   "outputs": [],
   "source": [
    "# Simplified implementation of stack\n",
    "# relying on built-in data structures (Python lists)\n",
    "class Stack:\n",
    "    def __init__(self):\n",
    "         self.items = []\n",
    "\n",
    "    def push(self, value):\n",
    "             self.items.append(value)\n",
    "\n",
    "    def pop(self):\n",
    "        return self.items.pop()\n",
    "   # Nice to have methods:\n",
    "\n",
    "    def peek(self):\n",
    "        return self.items[len(self.items)-1]\n",
    "\n",
    "    def is_empty(self):\n",
    "        return self.items == []\n",
    "\n",
    "    def size(self):\n",
    "        return len(self.items)\n",
    "        \n",
    "         return self.stackSize\n",
    "    "
   ]
  },
  {
   "cell_type": "code",
   "execution_count": 2,
   "id": "bea6e5d7-8973-4b52-999b-3d45be8ef1a1",
   "metadata": {},
   "outputs": [
    {
     "ename": "SyntaxError",
     "evalue": "invalid syntax (429319487.py, line 1)",
     "output_type": "error",
     "traceback": [
      "\u001b[0;36m  Cell \u001b[0;32mIn[2], line 1\u001b[0;36m\u001b[0m\n\u001b[0;31m    class def StackII:\u001b[0m\n\u001b[0m          ^\u001b[0m\n\u001b[0;31mSyntaxError\u001b[0m\u001b[0;31m:\u001b[0m invalid syntax\n"
     ]
    }
   ],
   "source": [
    "class def StackII:\n",
    "    def __init__(self):\n",
    "        self.top = None\n",
    "\n",
    "    class __Node:\n",
    "        def __init__(self,data):\n",
    "            self.data = data\n",
    "            self.below = None\n",
    "\n",
    "    def push(self, value):\n",
    "        # No matter what, I will be adding a new node, so this should be the first line\n",
    "        new_node = self.__Node(value)\n",
    "        # check if thr stack is empty:\n",
    "        if not self.top:      # this is the same as if self.top == None\n",
    "            self.top = new_node\n",
    "        else:\n",
    "            # Back the reference up (to the old topmost Node)\n",
    "            old_top = self.top\n",
    "            #Update self.top to point to our new node ( it becomes the topmost node now)\n",
    "            self.top = new_node\n",
    "            # Connect new_node to the old_top so we don't lose data\n",
    "            new_node.below = old_top\n",
    "\n",
    "    def pop(self):\n",
    "        # At a minimum, the pop operation must return the topmost element (specifically, the data contained at the top)\n",
    "        # and remove the topmost node from the collection.\n",
    "        if not self.top:\n",
    "            raise IndexError(\"Stack is empty\")\n",
    "        else: \n",
    "            value = self.top.data\n",
    "            self.top = self.top.below\n",
    "            return value\n",
    "\n",
    "    # Nice to have methods:\n",
    "    \n",
    "    def peek(self):\n",
    "        if self.top:\n",
    "            return self.top.data\n",
    "        raise IndexError(\"Stack is empty\")\n",
    "\n",
    "    def is_empty(self):\n",
    "        return self.top == None\n",
    "\n",
    "    def size(self):\n",
    "        # This should return the number Nodes in the stack\n",
    "        count = 0\n",
    "        if not self.top:\n",
    "            return count\n",
    "        current = self.top\n",
    "        while current.below:\n",
    "            current = curent.below\n",
    "            count += 1\n",
    "        return count\n",
    "        \n",
    "        \n",
    "                               "
   ]
  },
  {
   "cell_type": "code",
   "execution_count": null,
   "id": "4361a2c8-b679-42fd-ac6d-de9745f93ac3",
   "metadata": {},
   "outputs": [],
   "source": []
  },
  {
   "cell_type": "code",
   "execution_count": 6,
   "id": "0a166254-6e4e-48c2-b958-08c363427fc0",
   "metadata": {},
   "outputs": [
    {
     "ename": "SyntaxError",
     "evalue": "invalid syntax (802236879.py, line 6)",
     "output_type": "error",
     "traceback": [
      "\u001b[0;36m  Cell \u001b[0;32mIn[6], line 6\u001b[0;36m\u001b[0m\n\u001b[0;31m    ```\u001b[0m\n\u001b[0m    ^\u001b[0m\n\u001b[0;31mSyntaxError\u001b[0m\u001b[0;31m:\u001b[0m invalid syntax\n"
     ]
    }
   ],
   "source": [
    "# Problem 2: \n",
    "\n",
    "## Given a string like \"Eric\" use our StackII class (above) to invert the string.\n",
    "\n",
    "### Examples:\n",
    "```\n",
    "invert_str(\"Eric\") -> \"cirE\"\n",
    "invert_str(\"Star\") -> \"ratS\"\n",
    "invert_str(\"scar\") -> \"racs\"\n",
    "\n",
    "```\n",
    "### Criteria \n",
    "Your solution must absolutely use only the StackII class above to return the inverte string, no other solutions will apply."
   ]
  },
  {
   "cell_type": "code",
   "execution_count": 7,
   "id": "f584310b-d6a9-4ae2-8e6f-aa459fe240cb",
   "metadata": {},
   "outputs": [
    {
     "ename": "SyntaxError",
     "evalue": "expected ':' (1041944787.py, line 5)",
     "output_type": "error",
     "traceback": [
      "\u001b[0;36m  Cell \u001b[0;32mIn[7], line 5\u001b[0;36m\u001b[0m\n\u001b[0;31m    class Myclass\u001b[0m\n\u001b[0m                 ^\u001b[0m\n\u001b[0;31mSyntaxError\u001b[0m\u001b[0;31m:\u001b[0m expected ':'\n"
     ]
    }
   ],
   "source": [
    "# self check the item\n",
    "# push each item in the approiate order\n",
    "# peek to see that all items are in the stack\n",
    "# pop items out in reverse order\n",
    "class Myclass\n",
    "def __init__(self, name):\n",
    "    self.name = name\n",
    "    myobject = Myclass(\"Eric Wells\")\n",
    "    myobject.name\n",
    "    \n",
    "def push (self, value)\n",
    "self.items.append(\n"
   ]
  },
  {
   "cell_type": "code",
   "execution_count": 8,
   "id": "5b5bf4c6-dfa6-4d90-b8aa-20a94792da54",
   "metadata": {},
   "outputs": [
    {
     "name": "stdout",
     "output_type": "stream",
     "text": [
      "The bite intensity for wolf is: 100\n"
     ]
    }
   ],
   "source": [
    "# Create a class called \"Canine\", which should have the following attributes:\n",
    "# height\n",
    "# weight\n",
    "# bite _intemsity\n",
    "# howl_intensity\n",
    "# additionally, it should have the methods:\n",
    "# bite()\n",
    "# howl()\n",
    "# run()\n",
    "# dig()\n",
    "\n",
    "# After that we're going to create the classes Dog() and wolf() which must extend Caninie.\n",
    "# Finally, create instances of Dog and Wolf, and demonstrate, using the dot operator, how to access these attributes and methods.\n",
    "\n",
    "\n",
    "class Canine:\n",
    "    def __init__ (self, height, weight, bite_intensity, howl_intensity):\n",
    "        self.height = height\n",
    "        self.weight = weight\n",
    "        self.bite_intensity = bite_intensity\n",
    "        self.howl_intensify = howl_intensity\n",
    "    def bite(self):\n",
    "        print(\"Bite\")\n",
    "    \n",
    "    def howl(self):\n",
    "        print(\"Howl\")\n",
    "\n",
    "    def run(self):\n",
    "        print(\"Run\")\n",
    "\n",
    "    def dig(self):\n",
    "        print(\"Dig\")\n",
    "        \n",
    "class Dog(Canine): # this should be read \"Dog extends Canine\"\n",
    "    def wag_tail(self):\n",
    "        print(\"wag_tail\")\n",
    "\n",
    "class Wolf(Canine):\n",
    "    def hunt(self):\n",
    "        print(\"hunting\")\n",
    "\n",
    "wolf = Wolf(30, 50, 100, 100)\n",
    "print(\"The bite intensity for wolf is: %s\"\n",
    "      % wolf.bite_intensity)\n",
    "\n"
   ]
  },
  {
   "cell_type": "code",
   "execution_count": 9,
   "id": "69674c3c-57cc-44df-888d-b65304e41794",
   "metadata": {},
   "outputs": [],
   "source": [
    "# Create a class called Vehicle with the following attributes:( describes the item)\n",
    "# 1. velocity\n",
    "# 2. type\n",
    "# 3. number_of_wheels\n",
    "# 4. fuel_level\n",
    "\n",
    "# then, create the following subclasses:\n",
    "# 1. Truck\n",
    "# 2. Motorcycle\n",
    "# 3. Bus\n",
    "# 4. Planes\n",
    "\n",
    "# Each class should have at least 2 unique methods # (things it does)"
   ]
  },
  {
   "cell_type": "code",
   "execution_count": null,
   "id": "8a22a500-cead-4617-91ef-1a76648d68c1",
   "metadata": {},
   "outputs": [],
   "source": [
    "class Vehicle:\n",
    "\n",
    "    def __init__(self, velocity, type, number_of_wheels, fuel_level):\n",
    "        self.velocity = velocity\n",
    "        self.type = type\n",
    "        self.number_of_wheels = number_of_wheels\n",
    "        self.fuel_level = fuel_level\n",
    "    \n",
    "    def velocity(self):\n",
    "        print(\"Speed\")\n",
    "\n",
    "    def type(self):\n",
    "        print(\"Truck, Motortcyle, Bus and Planes\")\n",
    "\n",
    "    def number_of_wheels(self):\n",
    "        print(\"Two, Three, Four and Eighteen\")\n",
    "\n",
    "    def fuel_level(self):\n",
    "        print(\"Fuel Level\")\n",
    "        \n",
    "    \n",
    "\n",
    "    class Truck(Vehicle):\n",
    "\n",
    "        def __init__(self,transports, tow):\n",
    "            self.transports = transports\n",
    "            self.tow = tow\n",
    "            print(\"4 People and Pulls a Boat\")\n",
    "\n",
    "    class Motorcycle(Vehicle):\n",
    "\n",
    "        def __init__(self, two_wheels, fast):\n",
    "            self.two_wheels = two wheels\n",
    "            self.fast = fast\n",
    "\n",
    "        def two_wheels(self):\n",
    "            print(\"Transport Max two people\")\n",
    "\n",
    "        def super_fast(self):\n",
    "            print(\"Crouch Rocket\")\n",
    "    class Bus(Vehicle):\n",
    "\n",
    "        def __init__(self, public_transport, ten_rows):\n",
    "            self.public_transport = public_transport\n",
    "            self.ten_rows = ten_rows\n",
    "        \n",
    "        def public_transport(self):\n",
    "            print(\"Cheapest and slow form of Transportation\")\n",
    "\n",
    "        def ten_rows(self):\n",
    "            print(\"Carries at least 30 people at a Time\")\n",
    "\n",
    "    class Airplane(Vehicle):\n",
    "\n",
    "        def __init__(self, sky_tranport, super_fast):\n",
    "            self.sky_transport = sky_transport\n",
    "            sefl.super_fast = super_fast\n",
    "\n",
    "        def sky_transport(self):\n",
    "            print(\"Gets in the clouds to transport people\")\n",
    "\n",
    "        def super_fast(self):\n",
    "            print(\"Fastest form of transportation\")"
   ]
  }
 ],
 "metadata": {
  "kernelspec": {
   "display_name": "Python 3 (ipykernel)",
   "language": "python",
   "name": "python3"
  },
  "language_info": {
   "codemirror_mode": {
    "name": "ipython",
    "version": 3
   },
   "file_extension": ".py",
   "mimetype": "text/x-python",
   "name": "python",
   "nbconvert_exporter": "python",
   "pygments_lexer": "ipython3",
   "version": "3.10.12"
  }
 },
 "nbformat": 4,
 "nbformat_minor": 5
}
