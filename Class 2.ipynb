{
 "cells": [
  {
   "cell_type": "code",
   "execution_count": 5,
   "id": "fde3938a-ea57-4ca4-9f9d-91389aabed9d",
   "metadata": {},
   "outputs": [],
   "source": [
    "# Simplified implementation of stack\n",
    "# relying on built-in data structures (Python lists)\n",
    "class Stack:\n",
    "    def __init__(self):\n",
    "         self.items = []\n",
    "\n",
    "    def push(self, value):\n",
    "             self.items.append(value)\n",
    "\n",
    "    def pop(self):\n",
    "        return self.items.pop()\n",
    "   # Nice to have methods:\n",
    "\n",
    "    def ppek(self):\n",
    "        return self.items[len(self.items)-1]\n",
    "\n",
    "    def is_empty(self):\n",
    "        return self.items == []\n",
    "\n",
    "    def size(self):\n",
    "        return len(self.items)\n",
    "        "
   ]
  },
  {
   "cell_type": "code",
   "execution_count": 6,
   "id": "6d134fda-f743-485f-b8ea-2c6186a46e00",
   "metadata": {},
   "outputs": [],
   "source": [
    "# from scratch implementation of Stack\n",
    "# Not relying on any built-ins\n",
    "\n",
    "class StackII:\n",
    "    def __init__(self):\n",
    "        self.top = None\n",
    "\n",
    "    class __Node:\n",
    "        def __init__(self,data):\n",
    "            self.data = data\n",
    "            self.below -None\n",
    "\n",
    "        def push(self,value):\n",
    "            # No matter what, I will be adding a new node, so this should be the first line:\n",
    "           # check if the stack is empty:\n",
    "            if not self.top      # this is the same as if self.top == none\n",
    "                new_node = self.__Node(value)\n",
    "                self.top = new_node\n",
    "            else:\n",
    "                # Back the reference up (to the old topmost Node)\n",
    "                old _top = self.top\n",
    "                \n",
    "                # Update self.top to point to our new node (it becomes the topmost node now)\n",
    "                self.top = new_node\n",
    "                \n",
    "                # Connect new_node to the old_top so we don't lose data\n",
    "                new_node.below = old_top\n",
    "\n",
    "\n",
    "\n",
    "        \n",
    "        def pop(self):\n",
    "           # At a minimum , the pop operation must return the topmost element (specifically, the data contained at the top)\n",
    "            # and remove the topmost node from the collection.\n",
    "          \n",
    "           \n",
    "            if  not self.top:\n",
    "                raise IndexError(\"Stack is empty\")\n",
    "            else:\n",
    "                value = self.top.data\n",
    "                self.top = self.top.below\n",
    "                return value\n",
    "\n",
    "         \n",
    "            \n",
    "            \n",
    "        \n",
    "        # Nice to have methods:\n",
    "        def peer(self):\n",
    "            pass\n",
    "\n",
    "        def is_empty(self):\n",
    "            pass\n",
    "\n",
    "        def size(self):\n",
    "            pass\n",
    "            "
   ]
  },
  {
   "cell_type": "code",
   "execution_count": 7,
   "id": "cd0696d6-389a-4bb9-8d0e-df8a944322a7",
   "metadata": {},
   "outputs": [
    {
     "name": "stdout",
     "output_type": "stream",
     "text": [
      "139949361480080\n",
      "139949361480048\n"
     ]
    }
   ],
   "source": [
    "#Pass by value\n",
    "# in Python \"primary\" data types (int, float, Bool) pass by value\"\n",
    "\n",
    "x = 5\n",
    "y = x\n",
    "x += 1\n",
    "print(id(x))\n",
    "print(id(y))\n"
   ]
  },
  {
   "cell_type": "code",
   "execution_count": 10,
   "id": "49333eb0-4245-4336-ae36-e97d950b374a",
   "metadata": {},
   "outputs": [
    {
     "name": "stdout",
     "output_type": "stream",
     "text": [
      "139949314701696\n",
      "139949314701696\n"
     ]
    }
   ],
   "source": [
    "# Pass by reference\n",
    "# In Python , data types that are not primary all pass by reference\n",
    "\n",
    "x = [1, 2, 3]\n",
    "\n",
    "y = x\n",
    "\n",
    "x.append(4)\n",
    "\n",
    "print(id(y))\n",
    "print(id(x))\n"
   ]
  },
  {
   "cell_type": "code",
   "execution_count": null,
   "id": "bea6e5d7-8973-4b52-999b-3d45be8ef1a1",
   "metadata": {},
   "outputs": [],
   "source": []
  }
 ],
 "metadata": {
  "kernelspec": {
   "display_name": "Python 3 (ipykernel)",
   "language": "python",
   "name": "python3"
  },
  "language_info": {
   "codemirror_mode": {
    "name": "ipython",
    "version": 3
   },
   "file_extension": ".py",
   "mimetype": "text/x-python",
   "name": "python",
   "nbconvert_exporter": "python",
   "pygments_lexer": "ipython3",
   "version": "3.10.12"
  }
 },
 "nbformat": 4,
 "nbformat_minor": 5
}
