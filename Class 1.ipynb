{
 "cells": [
  {
   "cell_type": "code",
   "execution_count": 1,
   "id": "0a3d9e60-2448-4c62-b306-040dff4a0dda",
   "metadata": {},
   "outputs": [
    {
     "name": "stdout",
     "output_type": "stream",
     "text": [
      "h\n",
      "e\n",
      "l\n",
      "l\n",
      "o\n",
      ",\n",
      " \n",
      "w\n",
      "o\n",
      "r\n",
      "l\n",
      "d\n"
     ]
    }
   ],
   "source": [
    "for char in \"hello, world\":\n",
    "    print(char)"
   ]
  },
  {
   "cell_type": "markdown",
   "id": "d0a63ec8-4af0-44fe-b95c-5f9eb3986dfa",
   "metadata": {},
   "source": [
    "# Problem 1\n",
    "\n",
    "## Anagram Check\n",
    "\n",
    "### Create a function that recieves two strings as inputs and determines if these are anagrams of each other. The function should return True if these are anagrams, False othewise.\n",
    "\n",
    "#### Criteria\n",
    "Two strings are anagrams of each other if all the criteria below is met:\n",
    "1. They must use the same number of letters\n",
    "2. They must use the same letters the same amount of times\n",
    "  \n",
    "```\n",
    "Examples\n",
    "scar and cars\n",
    "rats and star\n",
    "earth and heart\n",
    "```"
   ]
  },
  {
   "cell_type": "code",
   "execution_count": null,
   "id": "30f9dff3-03bc-4da8-a9b3-70fe6848f08a",
   "metadata": {},
   "outputs": [],
   "source": [
    "# define my function anagram_check with parameters string1 and string2:\n",
    "#string1 = string1 in lower case\n",
    "#string1 = string1 without spaces\n",
    "#string2 = string2 in lower case\n",
    "#string2 = without spaces\n",
    "# if string1 and string2 are not of equal length:\n",
    "#     return false\n",
    "# new variable d1 of type dictionary\n",
    "# new variable d2 of type dictionary\n",
    "# for each number in the range of numbers between 0 and the length of string1:\n",
    "#    if the letter at position \"number\" in string1 is in d1:\n",
    "#       increase the number of times I've seen that letter by 1 in d1\n",
    "#     otherwise:\n",
    "#     Create a new entry in d1 with the key set to the letter, and the number times seen set to 1 \n",
    "# check if d1 is equal to d2\n",
    "# if it is:\n",
    "#     return True\n",
    "# othe"
   ]
  }
 ],
 "metadata": {
  "kernelspec": {
   "display_name": "Python 3 (ipykernel)",
   "language": "python",
   "name": "python3"
  },
  "language_info": {
   "codemirror_mode": {
    "name": "ipython",
    "version": 3
   },
   "file_extension": ".py",
   "mimetype": "text/x-python",
   "name": "python",
   "nbconvert_exporter": "python",
   "pygments_lexer": "ipython3",
   "version": "3.10.12"
  }
 },
 "nbformat": 4,
 "nbformat_minor": 5
}
